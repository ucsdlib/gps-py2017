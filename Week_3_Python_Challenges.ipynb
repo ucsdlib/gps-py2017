{
 "cells": [
  {
   "cell_type": "code",
   "execution_count": null,
   "metadata": {
    "collapsed": true
   },
   "outputs": [],
   "source": [
    "###################################################\n",
    "# Author: Hyeonsu B. Kang #########################\n",
    "# Feb. 10. 2016 ###################################\n",
    "# Due by Feb. 16. 11:59PM (PST) / 30 pts ##########\n",
    "###################################################\n",
    "\n",
    "###################################################\n",
    "# Problem 1 (20pts) ###############################\n",
    "###################################################\n",
    "# (15pts)\n",
    "# Create a function that has the following signature:\n",
    "# plotHisto(data, lab1, lab2, bins = 50, normed = 1, alpha = 0.75)\n",
    "# that creates a plot that has two subplots in it.\n",
    "# - The first plot creates a histogram with the data and column header lab1,\n",
    "# with facecolor of 'red'.\n",
    "# - The second plot creates a stacked histogram with the data, the two labels\n",
    "# (lab1 as the bottom bar, lab2 as the top bar)\n",
    "# and with facecolors of 'red' and 'blue' ('red' at the bottom, 'blue' at the top)\n",
    "\n",
    "import pandas as pd  \n",
    "import matplotlib.pyplot as plt\n",
    "%matplotlib inline\n",
    "\n",
    "# load the data\n",
    "totals = pd.read_csv(\"https://piazza.com/class_profile/get_resource/ij0cpi5tuaa4wv/ik6hlfvu8dk1vu\", delimiter='\\t', index_col=0)\n",
    "guns = pd.read_csv(\"https://piazza.com/class_profile/get_resource/ij0cpi5tuaa4wv/ik6hlau5u2i26d\", delimiter='\\t', index_col=0)\n",
    "gdp = pd.read_csv(\"https://piazza.com/class_profile/get_resource/ij0cpi5tuaa4wv/ik6hl6z36e81t3\", delimiter='\\t', index_col=1)\n",
    "data = totals.join(guns).join(gdp)\n",
    "\n",
    "# Implement the function plotHisto below\n",
    "\n",
    "# (5pts) \n",
    "# Now using the function and the 'data' variable defined above, plot a historgram of 'Gun Homicides'\n",
    "# and the stacked historgram of 'Gun Homicides' and 'Homicides' sorted by 'Gun Homicidies' occurrences\n",
    "# You may assume that 'Homcides' has bigger value than 'Gun Homicides' \n",
    "# Label the x-axis as 'Country', and the y-axis as 'per 100k cases' \n",
    "\n",
    "###################################################\n",
    "# Problem 2 (19pts) ###############################\n",
    "###################################################\n",
    "# (10pts)\n",
    "# Create a function that has the following signature:\n",
    "# plotTwoWayScatter(data, xlab, ylab, title, color)\n",
    "# that creates a two-way scatter plot of the data using\n",
    "# the log values of the 'xlab' column of the data as x-axis values\n",
    "# and the log values of the 'ylab' column of the data as y-axis values.\n",
    "# The scatter plot also sets the x label as 'log of ' + xlab and\n",
    "# the y label as 'log of ' + ylab. \n",
    "# It also has the value of the 'title' argument as its title,\n",
    "# and sets the color of the dots with the 'color' argument.\n",
    "\n",
    "# (9pts)\n",
    "# Now using the function and the 'data' variable defined above, plot a scatter plot of \n",
    "# (1) GDP - Homicides (red dots),  (3pts)\n",
    "# (2) GDP - Gun Homicides (blue dots) and  (3pts)\n",
    "# (3) Homicides - Gun Homicides (green dots)  (3pts)\n",
    "\n"
   ]
  }
 ],
 "metadata": {
  "kernelspec": {
   "display_name": "Python 2",
   "language": "python",
   "name": "python2"
  },
  "language_info": {
   "codemirror_mode": {
    "name": "ipython",
    "version": 2
   },
   "file_extension": ".py",
   "mimetype": "text/x-python",
   "name": "python",
   "nbconvert_exporter": "python",
   "pygments_lexer": "ipython2",
   "version": "2.7.11"
  }
 },
 "nbformat": 4,
 "nbformat_minor": 0
}
