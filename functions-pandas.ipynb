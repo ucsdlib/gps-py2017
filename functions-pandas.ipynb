{
 "cells": [
  {
   "cell_type": "code",
   "execution_count": 10,
   "metadata": {
    "collapsed": true
   },
   "outputs": [],
   "source": [
    "import pandas"
   ]
  },
  {
   "cell_type": "code",
   "execution_count": 2,
   "metadata": {
    "collapsed": false
   },
   "outputs": [
    {
     "data": {
      "text/plain": [
       "module"
      ]
     },
     "execution_count": 2,
     "metadata": {},
     "output_type": "execute_result"
    }
   ],
   "source": [
    "type(pandas)"
   ]
  },
  {
   "cell_type": "code",
   "execution_count": 8,
   "metadata": {
    "collapsed": true
   },
   "outputs": [],
   "source": [
    "def fahr_to_celsius(temp_fahr):\n",
    "    \"\"\"Convert Fahrenheit to Celsius\n",
    "    \n",
    "    Return Celsius conversion of input\"\"\"\n",
    "    temp_celsius = (temp_fahr - 32) * 5 / 9\n",
    "    return temp_celsius"
   ]
  },
  {
   "cell_type": "code",
   "execution_count": 4,
   "metadata": {
    "collapsed": true
   },
   "outputs": [],
   "source": [
    "fahr_to_celsius?"
   ]
  },
  {
   "cell_type": "code",
   "execution_count": 6,
   "metadata": {
    "collapsed": false
   },
   "outputs": [],
   "source": [
    "data = pandas.read_csv(\"data/A1_mosquito_data.csv\")"
   ]
  },
  {
   "cell_type": "code",
   "execution_count": 7,
   "metadata": {
    "collapsed": false
   },
   "outputs": [
    {
     "data": {
      "text/html": [
       "<div>\n",
       "<table border=\"1\" class=\"dataframe\">\n",
       "  <thead>\n",
       "    <tr style=\"text-align: right;\">\n",
       "      <th></th>\n",
       "      <th>year</th>\n",
       "      <th>temperature</th>\n",
       "      <th>rainfall</th>\n",
       "      <th>mosquitos</th>\n",
       "    </tr>\n",
       "  </thead>\n",
       "  <tbody>\n",
       "    <tr>\n",
       "      <th>0</th>\n",
       "      <td>2001</td>\n",
       "      <td>80</td>\n",
       "      <td>157</td>\n",
       "      <td>150</td>\n",
       "    </tr>\n",
       "    <tr>\n",
       "      <th>1</th>\n",
       "      <td>2002</td>\n",
       "      <td>85</td>\n",
       "      <td>252</td>\n",
       "      <td>217</td>\n",
       "    </tr>\n",
       "    <tr>\n",
       "      <th>2</th>\n",
       "      <td>2003</td>\n",
       "      <td>86</td>\n",
       "      <td>154</td>\n",
       "      <td>153</td>\n",
       "    </tr>\n",
       "    <tr>\n",
       "      <th>3</th>\n",
       "      <td>2004</td>\n",
       "      <td>87</td>\n",
       "      <td>159</td>\n",
       "      <td>158</td>\n",
       "    </tr>\n",
       "    <tr>\n",
       "      <th>4</th>\n",
       "      <td>2005</td>\n",
       "      <td>74</td>\n",
       "      <td>292</td>\n",
       "      <td>243</td>\n",
       "    </tr>\n",
       "  </tbody>\n",
       "</table>\n",
       "</div>"
      ],
      "text/plain": [
       "   year  temperature  rainfall  mosquitos\n",
       "0  2001           80       157        150\n",
       "1  2002           85       252        217\n",
       "2  2003           86       154        153\n",
       "3  2004           87       159        158\n",
       "4  2005           74       292        243"
      ]
     },
     "execution_count": 7,
     "metadata": {},
     "output_type": "execute_result"
    }
   ],
   "source": [
    "data.head()"
   ]
  },
  {
   "cell_type": "markdown",
   "metadata": {},
   "source": [
    "* since we have one row per year, let's set that to the index using .set_index()"
   ]
  },
  {
   "cell_type": "code",
   "execution_count": 8,
   "metadata": {
    "collapsed": false
   },
   "outputs": [],
   "source": [
    "data = data.set_index(\"year\")"
   ]
  },
  {
   "cell_type": "markdown",
   "metadata": {},
   "source": [
    "* let's use the fahr_to_celsius() function to convert our fahr temp to celsisus on the fly (not saved)"
   ]
  },
  {
   "cell_type": "code",
   "execution_count": 9,
   "metadata": {
    "collapsed": false
   },
   "outputs": [
    {
     "data": {
      "text/plain": [
       "year\n",
       "2001    26.666667\n",
       "2002    29.444444\n",
       "2003    30.000000\n",
       "2004    30.555556\n",
       "2005    23.333333\n",
       "2006    23.888889\n",
       "2007    26.666667\n",
       "2008    29.444444\n",
       "2009    23.333333\n",
       "2010    23.333333\n",
       "Name: temperature, dtype: float64"
      ]
     },
     "execution_count": 9,
     "metadata": {},
     "output_type": "execute_result"
    }
   ],
   "source": [
    "fahr_to_celsius(data[\"temperature\"])"
   ]
  },
  {
   "cell_type": "markdown",
   "metadata": {},
   "source": [
    "* in pandas one way to add a column is to assign our result to a new column using the bracket structure"
   ]
  },
  {
   "cell_type": "code",
   "execution_count": 10,
   "metadata": {
    "collapsed": false
   },
   "outputs": [],
   "source": [
    "data[\"temperature_C\"] = fahr_to_celsius(data[\"temperature\"])"
   ]
  },
  {
   "cell_type": "code",
   "execution_count": 11,
   "metadata": {
    "collapsed": false
   },
   "outputs": [
    {
     "data": {
      "text/html": [
       "<div>\n",
       "<table border=\"1\" class=\"dataframe\">\n",
       "  <thead>\n",
       "    <tr style=\"text-align: right;\">\n",
       "      <th></th>\n",
       "      <th>temperature</th>\n",
       "      <th>rainfall</th>\n",
       "      <th>mosquitos</th>\n",
       "      <th>temperature_C</th>\n",
       "    </tr>\n",
       "    <tr>\n",
       "      <th>year</th>\n",
       "      <th></th>\n",
       "      <th></th>\n",
       "      <th></th>\n",
       "      <th></th>\n",
       "    </tr>\n",
       "  </thead>\n",
       "  <tbody>\n",
       "    <tr>\n",
       "      <th>2001</th>\n",
       "      <td>80</td>\n",
       "      <td>157</td>\n",
       "      <td>150</td>\n",
       "      <td>26.666667</td>\n",
       "    </tr>\n",
       "    <tr>\n",
       "      <th>2002</th>\n",
       "      <td>85</td>\n",
       "      <td>252</td>\n",
       "      <td>217</td>\n",
       "      <td>29.444444</td>\n",
       "    </tr>\n",
       "    <tr>\n",
       "      <th>2003</th>\n",
       "      <td>86</td>\n",
       "      <td>154</td>\n",
       "      <td>153</td>\n",
       "      <td>30.000000</td>\n",
       "    </tr>\n",
       "    <tr>\n",
       "      <th>2004</th>\n",
       "      <td>87</td>\n",
       "      <td>159</td>\n",
       "      <td>158</td>\n",
       "      <td>30.555556</td>\n",
       "    </tr>\n",
       "    <tr>\n",
       "      <th>2005</th>\n",
       "      <td>74</td>\n",
       "      <td>292</td>\n",
       "      <td>243</td>\n",
       "      <td>23.333333</td>\n",
       "    </tr>\n",
       "  </tbody>\n",
       "</table>\n",
       "</div>"
      ],
      "text/plain": [
       "      temperature  rainfall  mosquitos  temperature_C\n",
       "year                                                 \n",
       "2001           80       157        150      26.666667\n",
       "2002           85       252        217      29.444444\n",
       "2003           86       154        153      30.000000\n",
       "2004           87       159        158      30.555556\n",
       "2005           74       292        243      23.333333"
      ]
     },
     "execution_count": 11,
     "metadata": {},
     "output_type": "execute_result"
    }
   ],
   "source": [
    "data.head()"
   ]
  },
  {
   "cell_type": "markdown",
   "metadata": {},
   "source": [
    "* we can now do some graphing"
   ]
  },
  {
   "cell_type": "code",
   "execution_count": 14,
   "metadata": {
    "collapsed": true
   },
   "outputs": [],
   "source": [
    "%matplotlib inline"
   ]
  },
  {
   "cell_type": "code",
   "execution_count": 11,
   "metadata": {
    "collapsed": true
   },
   "outputs": [],
   "source": [
    "import matplotlib.pyplot as plt"
   ]
  },
  {
   "cell_type": "code",
   "execution_count": 15,
   "metadata": {
    "collapsed": true
   },
   "outputs": [],
   "source": [
    "plt.plot?"
   ]
  },
  {
   "cell_type": "code",
   "execution_count": 16,
   "metadata": {
    "collapsed": false
   },
   "outputs": [
    {
     "data": {
      "image/png": "[encoded data removed]",
      "text/plain": [
       "<matplotlib.figure.Figure at 0x10687beb8>"
      ]
     },
     "metadata": {},
     "output_type": "display_data"
    }
   ],
   "source": [
    "plt.plot(data[\"temperature_C\"], data[\"mosquitos\"], \".\")\n",
    "plt.savefig(\"A1_mosquito_data_mosquitos_vs_tempC.png\")"
   ]
  },
  {
   "cell_type": "code",
   "execution_count": 17,
   "metadata": {
    "collapsed": false
   },
   "outputs": [
    {
     "name": "stdout",
     "output_type": "stream",
     "text": [
      "A1_mosquito_data_mosquitos_vs_tempC.png\r\n"
     ]
    }
   ],
   "source": [
    "!ls *png"
   ]
  },
  {
   "cell_type": "code",
   "execution_count": null,
   "metadata": {
    "collapsed": true
   },
   "outputs": [],
   "source": []
  },
  {
   "cell_type": "code",
   "execution_count": 2,
   "metadata": {
    "collapsed": false
   },
   "outputs": [
    {
     "name": "stdout",
     "output_type": "stream",
     "text": [
      "A1_mosquito_data.csv   A2_mosquito_data_C.csv B1_mosquito_data.csv\r\n",
      "A2_mosquito_data.csv   A3_mosquito_data.csv   B2_mosquito_data.csv\r\n"
     ]
    }
   ],
   "source": [
    "!ls *csv"
   ]
  },
  {
   "cell_type": "markdown",
   "metadata": {},
   "source": [
    "* let's start thinking about building a function. \n",
    "* we can do better on the file name of the png\n",
    "* we want it associated with the file it comes from"
   ]
  },
  {
   "cell_type": "code",
   "execution_count": 20,
   "metadata": {
    "collapsed": true
   },
   "outputs": [],
   "source": [
    "a = \"A2_mosquito_data.csv\" #name of file we are plotting"
   ]
  },
  {
   "cell_type": "markdown",
   "metadata": {},
   "source": [
    "* use the subset to grab 'A2_mosquito_data.' and add 'png' to it."
   ]
  },
  {
   "cell_type": "code",
   "execution_count": 22,
   "metadata": {
    "collapsed": false
   },
   "outputs": [
    {
     "data": {
      "text/plain": [
       "'A2_mosquito_data.png'"
      ]
     },
     "execution_count": 22,
     "metadata": {},
     "output_type": "execute_result"
    }
   ],
   "source": [
    "a[0:-3]  + \"png\""
   ]
  },
  {
   "cell_type": "code",
   "execution_count": 24,
   "metadata": {
    "collapsed": false
   },
   "outputs": [
    {
     "data": {
      "text/plain": [
       "'A2_mosquito_data_mosquitos_vs_tempC.png'"
      ]
     },
     "execution_count": 24,
     "metadata": {},
     "output_type": "execute_result"
    }
   ],
   "source": [
    "a[0:-4] + \"_mosquitos_vs_tempC.png\""
   ]
  },
  {
   "cell_type": "markdown",
   "metadata": {},
   "source": [
    "* we can use replace() to replace substring matches"
   ]
  },
  {
   "cell_type": "code",
   "execution_count": 25,
   "metadata": {
    "collapsed": false
   },
   "outputs": [
    {
     "data": {
      "text/plain": [
       "'A2_mosquito_data.png'"
      ]
     },
     "execution_count": 25,
     "metadata": {},
     "output_type": "execute_result"
    }
   ],
   "source": [
    "a.replace(\".csv\", \".png\")"
   ]
  },
  {
   "cell_type": "markdown",
   "metadata": {},
   "source": [
    "### Let's take all the above and make a function.\n",
    "\n",
    "Function does: \n",
    "\n",
    "1. load data\n",
    "2. convert celsius\n",
    "3. create the plot\n",
    "4. save the plot to file"
   ]
  },
  {
   "cell_type": "code",
   "execution_count": 12,
   "metadata": {
    "collapsed": true
   },
   "outputs": [],
   "source": [
    "def create_mosquitos_vs_tempC_plot(filename):\n",
    "    # write processing here\n",
    "    # load data\n",
    "    print(\"Loading\", filename)\n",
    "    mosquitos_data = pandas.read_csv(filename)\n",
    "    # convert celsius\n",
    "    mosquitos_data[\"temperature_C\"] = fahr_to_celsius(mosquitos_data[\"temperature\"])\n",
    "    # create the plot\n",
    "    print(\"Plotting\", filename)\n",
    "    plt.plot(mosquitos_data[\"temperature_C\"], mosquitos_data[\"mosquitos\"], \".\")\n",
    "    # save the plot\n",
    "    filename_png = filename[0:-4] + \"_mosquitos_vs_tempC.png\"\n",
    "    plt.savefig(filename_png)\n",
    "    print(\"Saving\", filename_png)\n",
    "    return filename_png"
   ]
  },
  {
   "cell_type": "code",
   "execution_count": 15,
   "metadata": {
    "collapsed": false
   },
   "outputs": [
    {
     "name": "stdout",
     "output_type": "stream",
     "text": [
      "Loading A2_mosquito_data.csv\n",
      "Plotting A2_mosquito_data.csv\n",
      "Saving A2_mosquito_data_mosquitos_vs_tempC.png\n"
     ]
    },
    {
     "data": {
      "image/png": "[encoded data removed]",
      "text/plain": [
       "<matplotlib.figure.Figure at 0x1069b3d30>"
      ]
     },
     "metadata": {},
     "output_type": "display_data"
    }
   ],
   "source": [
    "name_of_png = create_mosquitos_vs_tempC_plot(\"A2_mosquito_data.csv\")"
   ]
  },
  {
   "cell_type": "code",
   "execution_count": 16,
   "metadata": {
    "collapsed": false
   },
   "outputs": [
    {
     "name": "stdout",
     "output_type": "stream",
     "text": [
      "A2_mosquito_data_mosquitos_vs_tempC.png\n",
      "A1_mosquito_data.csv                    B1_mosquito_data.csv\r\n",
      "A2_mosquito_data.csv                    B1_mosquito_data_mosquitos_vs_tempC.png\r\n",
      "A2_mosquito_data_mosquitos_vs_tempC.png B2_mosquito_data.csv\r\n",
      "A3_mosquito_data.csv                    decision_tree_example.url\r\n"
     ]
    }
   ],
   "source": [
    "print(name_of_png)\n",
    "!ls data/"
   ]
  },
  {
   "cell_type": "code",
   "execution_count": 17,
   "metadata": {
    "collapsed": false
   },
   "outputs": [
    {
     "name": "stdout",
     "output_type": "stream",
     "text": [
      "Loading B1_mosquito_data.csv\n",
      "Plotting B1_mosquito_data.csv\n",
      "Saving B1_mosquito_data_mosquitos_vs_tempC.png\n"
     ]
    },
    {
     "data": {
      "text/plain": [
       "'B1_mosquito_data_mosquitos_vs_tempC.png'"
      ]
     },
     "execution_count": 17,
     "metadata": {},
     "output_type": "execute_result"
    },
    {
     "data": {
      "image/png": "[encoded data removed]",
      "text/plain": [
       "<matplotlib.figure.Figure at 0x1098b14a8>"
      ]
     },
     "metadata": {},
     "output_type": "display_data"
    }
   ],
   "source": [
    "create_mosquitos_vs_tempC_plot(\"B1_mosquito_data.csv\")"
   ]
  },
  {
   "cell_type": "code",
   "execution_count": 19,
   "metadata": {
    "collapsed": false
   },
   "outputs": [
    {
     "name": "stdout",
     "output_type": "stream",
     "text": [
      "A1_mosquito_data_mosquitos_vs_tempC.png B1_mosquito_data_mosquitos_vs_tempC.png\r\n",
      "A2_mosquito_data_mosquitos_vs_tempC.png\r\n"
     ]
    }
   ],
   "source": [
    "!ls *png"
   ]
  },
  {
   "cell_type": "markdown",
   "metadata": {},
   "source": [
    "* let's alter the return statement to return the data \n",
    "* then we can write it out"
   ]
  },
  {
   "cell_type": "code",
   "execution_count": 25,
   "metadata": {
    "collapsed": true
   },
   "outputs": [],
   "source": [
    "def create_mosquitos_vs_tempC_plot(filename):\n",
    "    # write processing here\n",
    "    # load data\n",
    "    print(\"Loading\", filename)\n",
    "    mosquitos_data = pandas.read_csv(filename)\n",
    "    # convert celsius\n",
    "    mosquitos_data[\"temperature_C\"] = fahr_to_celsius(mosquitos_data[\"temperature\"])\n",
    "    # create the plot\n",
    "    print(\"Plotting\", filename)\n",
    "    plt.plot(mosquitos_data[\"temperature_C\"], mosquitos_data[\"mosquitos\"], \".\")\n",
    "    # save the plot\n",
    "    filename_png = filename[0:-4] + \"_mosquitos_vs_tempC.png\"\n",
    "    plt.savefig(filename_png)\n",
    "    print(\"Saving\", filename_png)\n",
    "    return mosquitos_data"
   ]
  },
  {
   "cell_type": "code",
   "execution_count": 26,
   "metadata": {
    "collapsed": false
   },
   "outputs": [
    {
     "name": "stdout",
     "output_type": "stream",
     "text": [
      "Loading A2_mosquito_data.csv\n",
      "Plotting A2_mosquito_data.csv\n",
      "Saving A2_mosquito_data_mosquitos_vs_tempC.png\n"
     ]
    },
    {
     "data": {
      "image/png": "[encoded data removed]",
      "text/plain": [
       "<matplotlib.figure.Figure at 0x1099229e8>"
      ]
     },
     "metadata": {},
     "output_type": "display_data"
    }
   ],
   "source": [
    "mosquito_data_A2 = create_mosquitos_vs_tempC_plot(\"A2_mosquito_data.csv\")"
   ]
  },
  {
   "cell_type": "code",
   "execution_count": 27,
   "metadata": {
    "collapsed": false
   },
   "outputs": [],
   "source": [
    "mosquito_data_A2.to_csv(\"A2_mosquito_data_C.csv\")"
   ]
  },
  {
   "cell_type": "code",
   "execution_count": 30,
   "metadata": {
    "collapsed": false,
    "scrolled": true
   },
   "outputs": [
    {
     "data": {
      "text/html": [
       "<div>\n",
       "<table border=\"1\" class=\"dataframe\">\n",
       "  <thead>\n",
       "    <tr style=\"text-align: right;\">\n",
       "      <th></th>\n",
       "      <th>year</th>\n",
       "      <th>temperature</th>\n",
       "      <th>rainfall</th>\n",
       "      <th>mosquitos</th>\n",
       "      <th>temperature_C</th>\n",
       "    </tr>\n",
       "  </thead>\n",
       "  <tbody>\n",
       "    <tr>\n",
       "      <th>0</th>\n",
       "      <td>1960</td>\n",
       "      <td>82</td>\n",
       "      <td>200</td>\n",
       "      <td>180</td>\n",
       "      <td>27.777778</td>\n",
       "    </tr>\n",
       "    <tr>\n",
       "      <th>1</th>\n",
       "      <td>1961</td>\n",
       "      <td>70</td>\n",
       "      <td>227</td>\n",
       "      <td>194</td>\n",
       "      <td>21.111111</td>\n",
       "    </tr>\n",
       "    <tr>\n",
       "      <th>2</th>\n",
       "      <td>1962</td>\n",
       "      <td>89</td>\n",
       "      <td>231</td>\n",
       "      <td>207</td>\n",
       "      <td>31.666667</td>\n",
       "    </tr>\n",
       "    <tr>\n",
       "      <th>3</th>\n",
       "      <td>1963</td>\n",
       "      <td>74</td>\n",
       "      <td>114</td>\n",
       "      <td>121</td>\n",
       "      <td>23.333333</td>\n",
       "    </tr>\n",
       "    <tr>\n",
       "      <th>4</th>\n",
       "      <td>1964</td>\n",
       "      <td>78</td>\n",
       "      <td>147</td>\n",
       "      <td>140</td>\n",
       "      <td>25.555556</td>\n",
       "    </tr>\n",
       "    <tr>\n",
       "      <th>5</th>\n",
       "      <td>1965</td>\n",
       "      <td>85</td>\n",
       "      <td>151</td>\n",
       "      <td>148</td>\n",
       "      <td>29.444444</td>\n",
       "    </tr>\n",
       "  </tbody>\n",
       "</table>\n",
       "</div>"
      ],
      "text/plain": [
       "   year  temperature  rainfall  mosquitos  temperature_C\n",
       "0  1960           82       200        180      27.777778\n",
       "1  1961           70       227        194      21.111111\n",
       "2  1962           89       231        207      31.666667\n",
       "3  1963           74       114        121      23.333333\n",
       "4  1964           78       147        140      25.555556\n",
       "5  1965           85       151        148      29.444444"
      ]
     },
     "execution_count": 30,
     "metadata": {},
     "output_type": "execute_result"
    }
   ],
   "source": [
    "mosquito_data_A2.head(6)"
   ]
  },
  {
   "cell_type": "code",
   "execution_count": 29,
   "metadata": {
    "collapsed": false
   },
   "outputs": [
    {
     "name": "stdout",
     "output_type": "stream",
     "text": [
      ",year,temperature,rainfall,mosquitos,temperature_C\r\n",
      "0,1960,82,200,180,27.77777777777778\r\n",
      "1,1961,70,227,194,21.11111111111111\r\n",
      "2,1962,89,231,207,31.666666666666668\r\n",
      "3,1963,74,114,121,23.333333333333332\r\n",
      "4,1964,78,147,140,25.555555555555557\r\n",
      "5,1965,85,151,148,29.444444444444443\r\n",
      "6,1966,86,172,162,30.0\r\n",
      "7,1967,75,106,112,23.88888888888889\r\n",
      "8,1968,70,276,230,21.11111111111111\r\n"
     ]
    }
   ],
   "source": [
    "!head A2_mosquito_data_C.csv"
   ]
  },
  {
   "cell_type": "code",
   "execution_count": 31,
   "metadata": {
    "collapsed": false
   },
   "outputs": [],
   "source": [
    "mosquito_data_A2.to_csv(\"A2_mosquito_data_C.csv\", index=False)"
   ]
  },
  {
   "cell_type": "code",
   "execution_count": 32,
   "metadata": {
    "collapsed": false
   },
   "outputs": [
    {
     "name": "stdout",
     "output_type": "stream",
     "text": [
      "year,temperature,rainfall,mosquitos,temperature_C\r\n",
      "1960,82,200,180,27.77777777777778\r\n",
      "1961,70,227,194,21.11111111111111\r\n",
      "1962,89,231,207,31.666666666666668\r\n",
      "1963,74,114,121,23.333333333333332\r\n",
      "1964,78,147,140,25.555555555555557\r\n",
      "1965,85,151,148,29.444444444444443\r\n",
      "1966,86,172,162,30.0\r\n",
      "1967,75,106,112,23.88888888888889\r\n",
      "1968,70,276,230,21.11111111111111\r\n"
     ]
    }
   ],
   "source": [
    "!head A2_mosquito_data_C.csv"
   ]
  },
  {
   "cell_type": "markdown",
   "metadata": {},
   "source": [
    "### Let's make a python module!\n",
    "\n",
    "* What's a [python module](http://programmers.stackexchange.com/questions/111871/module-vs-package)??\n",
    "* Python module is simply a Python source file, which can expose classes, functions and global variables\n",
    "* It's a python file .py with functions, etc.\n",
    "* Let's take our existing functions and make a module (a file)."
   ]
  },
  {
   "cell_type": "code",
   "execution_count": 43,
   "metadata": {
    "collapsed": false
   },
   "outputs": [
    {
     "name": "stdout",
     "output_type": "stream",
     "text": [
      "/Users/jtdennis/Desktop/python-pandas\r\n"
     ]
    }
   ],
   "source": [
    "!pwd"
   ]
  },
  {
   "cell_type": "markdown",
   "metadata": {},
   "source": [
    "### Open up text editor:\n",
    "\n",
    "1. On mac, use nano from command line (navigate to desktop folder containing your notebook and data)\n",
    "2. On windows, use notepad."
   ]
  },
  {
   "cell_type": "markdown",
   "metadata": {},
   "source": [
    "import pandas\n",
    "import matplotlib.pyplot as plt\n",
    "\n",
    "def fahr_to_celsius(temp_fahr):\n",
    "    \"\"\"Convert Fahrenheit to Celsius\n",
    "    \n",
    "    Return Celsius conversion of input\"\"\"\n",
    "    temp_celsius = (temp_fahr - 32) * 5 / 9\n",
    "    return temp_celsius\n",
    "\n",
    "def create_mosquitos_vs_tempC_plot(filename):\n",
    "    \"\"\"Create a png plot of mosquitos vs temp C\n",
    "\n",
    "    Parameters\n",
    "    ----------\n",
    "    filename : string\n",
    "        name of csv data file\n",
    "    Returns\n",
    "    -------\n",
    "    mosquito_data : DataFrame\n",
    "        Table with temp C column\n",
    "    \"\"\"\n",
    "    # write processing here\n",
    "    # load data\n",
    "    print(\"Loading\", filename)\n",
    "    mosquitos_data = pandas.read_csv(filename)\n",
    "    # convert celsius\n",
    "    mosquitos_data[\"temperature_C\"] = fahr_to_celsius(mosquitos_data[\"temperature\"])\n",
    "    # create the plot\n",
    "    print(\"Plotting\", filename)\n",
    "    plt.plot(mosquitos_data[\"temperature_C\"], mosquitos_data[\"mosquitos\"], \".\")\n",
    "    # save the plot\n",
    "    filename_png = filename[0:-4] + \"_mosquitos_vs_tempC.png\"\n",
    "    plt.savefig(filename_png)\n",
    "    print(\"Saving\", filename_png)\n",
    "    return mosquitos_data"
   ]
  },
  {
   "cell_type": "code",
   "execution_count": 35,
   "metadata": {
    "collapsed": false
   },
   "outputs": [
    {
     "name": "stdout",
     "output_type": "stream",
     "text": [
      "import pandas\r\n",
      "import matplotlib.pyplot as plt\r\n",
      "\r\n",
      "def fahr_to_celsius(temp_fahr):\r\n",
      "    \"\"\"Convert Fahrenheit to Celsius\r\n",
      "    \r\n",
      "    Return Celsius conversion of input\"\"\"\r\n",
      "    temp_celsius = (temp_fahr - 32) * 5 / 9\r\n",
      "    return temp_celsius\r\n",
      "\r\n",
      "def create_mosquitos_vs_tempC_plot(filename):\r\n",
      "    '''Create a png plot of mosquitos vs temp C\r\n",
      "\r\n",
      "    Parameters\r\n",
      "    ----------\r\n",
      "    filename : string\r\n",
      "        name of csv data file\r\n",
      "    Returns\r\n",
      "    -------\r\n",
      "    mosquito_data : DataFrame\r\n",
      "        Table with temp C column\r\n",
      "    '''\r\n",
      "    # write processing here\r\n",
      "    # load data\r\n",
      "    print(\"Loading\", filename)\r\n",
      "    mosquitos_data = pandas.read_csv(filename)\r\n",
      "    # convert celsius\r\n",
      "    mosquitos_data[\"temperature_C\"] = fahr_to_celsius(mosquitos_data[\"temperature\"])\r\n",
      "    # create the plot\r\n",
      "    print(\"Plotting\", filename)\r\n",
      "    plt.plot(mosquitos_data[\"temperature_C\"], mosquitos_data[\"mosquitos\"], \".\")\r\n",
      "    # save the plot\r\n",
      "    filename_png = filename[0:-4] + \"_mosquitos_vs_tempC.png\"\r\n",
      "    plt.savefig(filename_png)\r\n",
      "    print(\"Saving\", filename_png)\r\n",
      "    return filename_png\r\n"
     ]
    }
   ],
   "source": [
    "!cat analyze_mosquitos.py"
   ]
  },
  {
   "cell_type": "code",
   "execution_count": null,
   "metadata": {
    "collapsed": true
   },
   "outputs": [],
   "source": []
  }
 ],
 "metadata": {
  "kernelspec": {
   "display_name": "Python 3",
   "language": "python",
   "name": "python3"
  },
  "language_info": {
   "codemirror_mode": {
    "name": "ipython",
    "version": 3
   },
   "file_extension": ".py",
   "mimetype": "text/x-python",
   "name": "python",
   "nbconvert_exporter": "python",
   "pygments_lexer": "ipython3",
   "version": "3.5.1"
  }
 },
 "nbformat": 4,
 "nbformat_minor": 0
}
