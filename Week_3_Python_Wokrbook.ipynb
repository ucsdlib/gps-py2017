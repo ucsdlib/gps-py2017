{
 "cells": [
  {
   "cell_type": "code",
   "execution_count": 1,
   "metadata": {
    "collapsed": false
   },
   "outputs": [],
   "source": [
    "###################################################\n",
    "# Author: Hyeonsu Kang, Mark Buttweiler ###########\n",
    "# Feb. 10. 2016 ###################################\n",
    "###################################################\n",
    "\n",
    "\n",
    "#Q1: I want to import the data using the commands below... what am I missing? \n",
    "\n",
    "import pandas as pd\n",
    "\n",
    "# load the data\n",
    "totals = pd.read_csv(\"https://piazza.com/class_profile/get_resource/ij0cpi5tuaa4wv/ik6hlfvu8dk1vu\", delimiter='\\t', index_col=0)\n",
    "guns = pd.read_csv(\"https://piazza.com/class_profile/get_resource/ij0cpi5tuaa4wv/ik6hlau5u2i26d\", delimiter='\\t', index_col=0)\n",
    "gdp = pd.read_csv(\"https://piazza.com/class_profile/get_resource/ij0cpi5tuaa4wv/ik6hl6z36e81t3\", delimiter='\\t', index_col=1)\n",
    "\n",
    "# Check each of the data set\n",
    "\n",
    "\n",
    "# join the gun homicides and GDP data by country \n",
    "# The columns are expanded to the widest form (206 rows in the end)"
   ]
  },
  {
   "cell_type": "code",
   "execution_count": 31,
   "metadata": {
    "collapsed": false
   },
   "outputs": [],
   "source": [
    "###### drop the NaN values \n",
    "\n",
    "\n",
    "# Add a value for gun homicides as a percent of homicides\n"
   ]
  },
  {
   "cell_type": "code",
   "execution_count": 2,
   "metadata": {
    "collapsed": false
   },
   "outputs": [],
   "source": [
    "# Sort the data by gdp, and then create an array called 'countrybygdp' that contains only GDP and homicides\n"
   ]
  },
  {
   "cell_type": "code",
   "execution_count": 3,
   "metadata": {
    "collapsed": false
   },
   "outputs": [],
   "source": [
    "# Let's visualize it. \n",
    "# First, import matplotlib.pyplot as plt and make sure that your graphs open inline\n",
    "import matplotlib.pyplot as plt\n",
    "%matplotlib inline\n",
    "\n",
    "\n",
    "#Graph gun deaths on the y axis and GDP on the x-axis [NOTE! Matplotlib asks for x first and y second]\n",
    "\n",
    "\n"
   ]
  },
  {
   "cell_type": "code",
   "execution_count": 6,
   "metadata": {
    "collapsed": false
   },
   "outputs": [],
   "source": [
    "#It appears that there may be some sort of relatoinship. \n",
    "\n",
    "\n",
    "#GDP may need to be transformed. Generate a histogram using matplotlib. \n",
    "# matplotlib.pyplot.hist(x, bins=10, range=None, normed=False)\n",
    "#You need to remove NA values\n",
    "\n",
    "\n",
    "\n",
    "#What about homicides?\n",
    "\n",
    "\n"
   ]
  },
  {
   "cell_type": "code",
   "execution_count": 52,
   "metadata": {
    "collapsed": false
   },
   "outputs": [],
   "source": [
    "#Add a log gdp variable and a log homicide variable to your countrygdp data set using numpy\n",
    "#First, you will need to import numpy. Let's set it as np\n",
    "\n",
    "\n",
    "# we need to add a small number to prevent 0 flowing into the log function.\n",
    "# Let's checkout the log graph.\n",
    "\n",
    "\n",
    "# And actually adding the log columns\n"
   ]
  },
  {
   "cell_type": "code",
   "execution_count": 7,
   "metadata": {
    "collapsed": false
   },
   "outputs": [],
   "source": [
    "#Now, let's try graphing again to see if there is a relationship between Log(GDP) and Homicides\n",
    "\n",
    "\n",
    "\n",
    "#Let's create the title and labels\n",
    "\n",
    "\n",
    "\n"
   ]
  },
  {
   "cell_type": "code",
   "execution_count": 1,
   "metadata": {
    "collapsed": false
   },
   "outputs": [],
   "source": [
    "#That's cool, but let's automate this a bit. \n",
    "#Let's try creating a function that takes two variables, shows histograms for the two, logs the variables, \n",
    "#histograms the new variable \"plotHisto(data, bins = 50, normed = 1, facecolor = 'red', alpha = 0.75)\"\n",
    "\n",
    "\n",
    "\n",
    "# create a two-way scatter plot from the data and the two labels (xLab, yLab) \n",
    "# \"plotTwoWayScatter(data, xlab, ylab)\"\n",
    "\n",
    "\n",
    "\n",
    "\n",
    "\n",
    "# RECAP - create a stacked bar graph\n",
    "# \"plotStacked(data, btmLab, topLab, limit=10)\"\n",
    "\n"
   ]
  },
  {
   "cell_type": "code",
   "execution_count": 9,
   "metadata": {
    "collapsed": false
   },
   "outputs": [],
   "source": [
    "# Check out 'loggdp', 'Gun Suicides', 'loghomicides' histograms\n",
    "\n",
    "\n",
    "# Check out the 'loggdp' - 'loghomicides' scatter plot\n",
    "\n",
    "\n",
    "# Check out the stacked bar chart \n",
    "\n",
    "\n"
   ]
  }
 ],
 "metadata": {
  "kernelspec": {
   "display_name": "Python 2",
   "language": "python",
   "name": "python2"
  },
  "language_info": {
   "codemirror_mode": {
    "name": "ipython",
    "version": 2
   },
   "file_extension": ".py",
   "mimetype": "text/x-python",
   "name": "python",
   "nbconvert_exporter": "python",
   "pygments_lexer": "ipython2",
   "version": "2.7.11"
  }
 },
 "nbformat": 4,
 "nbformat_minor": 0
}
