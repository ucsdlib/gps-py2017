{
 "cells": [
  {
   "cell_type": "code",
   "execution_count": 1,
   "metadata": {
    "collapsed": true
   },
   "outputs": [],
   "source": [
    "###################################################\n",
    "# Author: Hyeonsu B. Kang #########################\n",
    "# Feb. 02. 2016 ###################################\n",
    "# Due by Feb. 02. 11:59PM (PST) / 30 pts ##########\n",
    "###################################################\n",
    "\n",
    "###################################################\n",
    "# Problem 1 (10pts) ###############################\n",
    "###################################################\n",
    "# Using the following data sets ('totals', 'guns' and 'gdp'), \n",
    "# plot the top 10 central & south American countries of the \n",
    "# highest number of gun deaths \n",
    "\n",
    "import pandas as pd  \n",
    "import matplotlib.pyplot as plt\n",
    "%matplotlib inline\n",
    "\n",
    "# load the data\n",
    "totals = pd.read_csv(\"https://piazza.com/class_profile/get_resource/ij0cpi5tuaa4wv/ik6hlfvu8dk1vu\", delimiter='\\t', index_col=0)\n",
    "guns = pd.read_csv(\"https://piazza.com/class_profile/get_resource/ij0cpi5tuaa4wv/ik6hlau5u2i26d\", delimiter='\\t', index_col=0)\n",
    "gdp = pd.read_csv(\"https://piazza.com/class_profile/get_resource/ij0cpi5tuaa4wv/ik6hl6z36e81t3\", delimiter='\\t', index_col=1)\n",
    "\n",
    "# Plot below\n",
    "\n"
   ]
  },
  {
   "cell_type": "code",
   "execution_count": 2,
   "metadata": {
    "collapsed": true
   },
   "outputs": [],
   "source": [
    "###################################################\n",
    "# Problem 2 (10pts) ###############################\n",
    "###################################################\n",
    "# Using the following data sets ('totals', 'guns' and 'gdp'), \n",
    "# plot the richest 15 European countries' number of gun deaths\n",
    "# (sort by GDP)\n",
    "\n",
    "import pandas as pd  \n",
    "import matplotlib.pyplot as plt\n",
    "%matplotlib inline\n",
    "\n",
    "# load the data\n",
    "totals = pd.read_csv(\"https://piazza.com/class_profile/get_resource/ij0cpi5tuaa4wv/ik6hlfvu8dk1vu\", delimiter='\\t', index_col=0)\n",
    "guns = pd.read_csv(\"https://piazza.com/class_profile/get_resource/ij0cpi5tuaa4wv/ik6hlau5u2i26d\", delimiter='\\t', index_col=0)\n",
    "gdp = pd.read_csv(\"https://piazza.com/class_profile/get_resource/ij0cpi5tuaa4wv/ik6hl6z36e81t3\", delimiter='\\t', index_col=1)\n",
    "\n",
    "# Plot below\n",
    "\n"
   ]
  },
  {
   "cell_type": "code",
   "execution_count": 3,
   "metadata": {
    "collapsed": true
   },
   "outputs": [],
   "source": [
    "###################################################\n",
    "# Problem 3 (10 pts) ##############################\n",
    "###################################################\n",
    "# Using the following data sets ('totals', 'guns' and 'gdp'), \n",
    "# plot the richest 30 countries' % of gun homicides\n",
    "# (sort by the percentage)\n",
    "\n",
    "import pandas as pd  \n",
    "import matplotlib.pyplot as plt\n",
    "%matplotlib inline\n",
    "\n",
    "# load the data\n",
    "totals = pd.read_csv(\"https://piazza.com/class_profile/get_resource/ij0cpi5tuaa4wv/ik6hlfvu8dk1vu\", delimiter='\\t', index_col=0)\n",
    "guns = pd.read_csv(\"https://piazza.com/class_profile/get_resource/ij0cpi5tuaa4wv/ik6hlau5u2i26d\", delimiter='\\t', index_col=0)\n",
    "gdp = pd.read_csv(\"https://piazza.com/class_profile/get_resource/ij0cpi5tuaa4wv/ik6hl6z36e81t3\", delimiter='\\t', index_col=1)\n",
    "\n",
    "# Plot below\n"
   ]
  }
 ],
 "metadata": {
  "kernelspec": {
   "display_name": "Python 3",
   "language": "python",
   "name": "python3"
  },
  "language_info": {
   "codemirror_mode": {
    "name": "ipython",
    "version": 3
   },
   "file_extension": ".py",
   "mimetype": "text/x-python",
   "name": "python",
   "nbconvert_exporter": "python",
   "pygments_lexer": "ipython3",
   "version": "3.5.1"
  }
 },
 "nbformat": 4,
 "nbformat_minor": 0
}
